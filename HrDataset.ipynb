{
 "cells": [
  {
   "cell_type": "code",
   "execution_count": 5,
   "id": "805426fe-8e6f-4de4-bf36-cee8a0a5dbb6",
   "metadata": {},
   "outputs": [
    {
     "name": "stdout",
     "output_type": "stream",
     "text": [
      "                Employee_Name  EmpID  MarriedID  MaritalStatusID  GenderID  \\\n",
      "0         Adinolfi, Wilson  K  10026          0                0         1   \n",
      "1    Ait Sidi, Karthikeyan     10084          1                1         1   \n",
      "2           Akinkuolie, Sarah  10196          1                1         0   \n",
      "3                Alagbe,Trina  10088          1                1         0   \n",
      "4            Anderson, Carol   10069          0                2         0   \n",
      "..                        ...    ...        ...              ...       ...   \n",
      "306            Woodson, Jason  10135          0                0         1   \n",
      "307        Ybarra, Catherine   10301          0                0         0   \n",
      "308          Zamora, Jennifer  10010          0                0         0   \n",
      "309               Zhou, Julia  10043          0                0         0   \n",
      "310             Zima, Colleen  10271          0                4         0   \n",
      "\n",
      "     EmpStatusID  DeptID  PerfScoreID  FromDiversityJobFairID  Salary  ...  \\\n",
      "0              1       5            4                       0   62506  ...   \n",
      "1              5       3            3                       0  104437  ...   \n",
      "2              5       5            3                       0   64955  ...   \n",
      "3              1       5            3                       0   64991  ...   \n",
      "4              5       5            3                       0   50825  ...   \n",
      "..           ...     ...          ...                     ...     ...  ...   \n",
      "306            1       5            3                       0   65893  ...   \n",
      "307            5       5            1                       0   48513  ...   \n",
      "308            1       3            4                       0  220450  ...   \n",
      "309            1       3            3                       0   89292  ...   \n",
      "310            1       5            3                       0   45046  ...   \n",
      "\n",
      "            Department     ManagerName ManagerID  RecruitmentSource  \\\n",
      "0    Production         Michael Albert      22.0           LinkedIn   \n",
      "1                IT/IS      Simon Roup       4.0             Indeed   \n",
      "2    Production         Kissy Sullivan      20.0           LinkedIn   \n",
      "3    Production           Elijiah Gray      16.0             Indeed   \n",
      "4    Production         Webster Butler      39.0      Google Search   \n",
      "..                 ...             ...       ...                ...   \n",
      "306  Production         Kissy Sullivan      20.0           LinkedIn   \n",
      "307  Production         Brannon Miller      12.0      Google Search   \n",
      "308              IT/IS      Janet King       2.0  Employee Referral   \n",
      "309              IT/IS      Simon Roup       4.0  Employee Referral   \n",
      "310  Production          David Stanley      14.0           LinkedIn   \n",
      "\n",
      "     PerformanceScore EngagementSurvey EmpSatisfaction SpecialProjectsCount  \\\n",
      "0             Exceeds             4.60               5                    0   \n",
      "1         Fully Meets             4.96               3                    6   \n",
      "2         Fully Meets             3.02               3                    0   \n",
      "3         Fully Meets             4.84               5                    0   \n",
      "4         Fully Meets             5.00               4                    0   \n",
      "..                ...              ...             ...                  ...   \n",
      "306       Fully Meets             4.07               4                    0   \n",
      "307               PIP             3.20               2                    0   \n",
      "308           Exceeds             4.60               5                    6   \n",
      "309       Fully Meets             5.00               3                    5   \n",
      "310       Fully Meets             4.50               5                    0   \n",
      "\n",
      "    LastPerformanceReview_Date Absences  \n",
      "0                   17-01-2019        1  \n",
      "1                   24-02-2016       17  \n",
      "2                   15-05-2012        3  \n",
      "3                   01-03-2019       15  \n",
      "4                   02-01-2016        2  \n",
      "..                         ...      ...  \n",
      "306                 28-02-2019       13  \n",
      "307                 09-02-2015        4  \n",
      "308                 21-02-2019       16  \n",
      "309                 02-01-2019       11  \n",
      "310                 30-01-2019        2  \n",
      "\n",
      "[311 rows x 35 columns]\n"
     ]
    }
   ],
   "source": [
    "import pandas as pd \n",
    "a=pd.read_csv(\"HRDatasets.csv\")\n",
    "print(a)"
   ]
  },
  {
   "cell_type": "code",
   "execution_count": 6,
   "id": "634474b0-a60c-4a6e-bd18-8c86466f4bed",
   "metadata": {},
   "outputs": [
    {
     "name": "stdout",
     "output_type": "stream",
     "text": [
      "              Employee_Name  EmpID  MarriedID  MaritalStatusID  GenderID  \\\n",
      "0       Adinolfi, Wilson  K  10026          0                0         1   \n",
      "1  Ait Sidi, Karthikeyan     10084          1                1         1   \n",
      "2         Akinkuolie, Sarah  10196          1                1         0   \n",
      "3              Alagbe,Trina  10088          1                1         0   \n",
      "4          Anderson, Carol   10069          0                2         0   \n",
      "\n",
      "   EmpStatusID  DeptID  PerfScoreID  FromDiversityJobFairID  Salary  ...  \\\n",
      "0            1       5            4                       0   62506  ...   \n",
      "1            5       3            3                       0  104437  ...   \n",
      "2            5       5            3                       0   64955  ...   \n",
      "3            1       5            3                       0   64991  ...   \n",
      "4            5       5            3                       0   50825  ...   \n",
      "\n",
      "          Department     ManagerName ManagerID RecruitmentSource  \\\n",
      "0  Production         Michael Albert      22.0          LinkedIn   \n",
      "1              IT/IS      Simon Roup       4.0            Indeed   \n",
      "2  Production         Kissy Sullivan      20.0          LinkedIn   \n",
      "3  Production           Elijiah Gray      16.0            Indeed   \n",
      "4  Production         Webster Butler      39.0     Google Search   \n",
      "\n",
      "   PerformanceScore EngagementSurvey EmpSatisfaction SpecialProjectsCount  \\\n",
      "0           Exceeds             4.60               5                    0   \n",
      "1       Fully Meets             4.96               3                    6   \n",
      "2       Fully Meets             3.02               3                    0   \n",
      "3       Fully Meets             4.84               5                    0   \n",
      "4       Fully Meets             5.00               4                    0   \n",
      "\n",
      "  LastPerformanceReview_Date Absences  \n",
      "0                 17-01-2019        1  \n",
      "1                 24-02-2016       17  \n",
      "2                 15-05-2012        3  \n",
      "3                 01-03-2019       15  \n",
      "4                 02-01-2016        2  \n",
      "\n",
      "[5 rows x 35 columns]\n"
     ]
    }
   ],
   "source": [
    "print(a.head())"
   ]
  },
  {
   "cell_type": "code",
   "execution_count": 7,
   "id": "42e95622-8910-4881-a8e4-0067097e58a0",
   "metadata": {},
   "outputs": [
    {
     "name": "stdout",
     "output_type": "stream",
     "text": [
      "          Employee_Name  EmpID  MarriedID  MaritalStatusID  GenderID  \\\n",
      "306      Woodson, Jason  10135          0                0         1   \n",
      "307  Ybarra, Catherine   10301          0                0         0   \n",
      "308    Zamora, Jennifer  10010          0                0         0   \n",
      "309         Zhou, Julia  10043          0                0         0   \n",
      "310       Zima, Colleen  10271          0                4         0   \n",
      "\n",
      "     EmpStatusID  DeptID  PerfScoreID  FromDiversityJobFairID  Salary  ...  \\\n",
      "306            1       5            3                       0   65893  ...   \n",
      "307            5       5            1                       0   48513  ...   \n",
      "308            1       3            4                       0  220450  ...   \n",
      "309            1       3            3                       0   89292  ...   \n",
      "310            1       5            3                       0   45046  ...   \n",
      "\n",
      "            Department     ManagerName ManagerID  RecruitmentSource  \\\n",
      "306  Production         Kissy Sullivan      20.0           LinkedIn   \n",
      "307  Production         Brannon Miller      12.0      Google Search   \n",
      "308              IT/IS      Janet King       2.0  Employee Referral   \n",
      "309              IT/IS      Simon Roup       4.0  Employee Referral   \n",
      "310  Production          David Stanley      14.0           LinkedIn   \n",
      "\n",
      "     PerformanceScore EngagementSurvey EmpSatisfaction SpecialProjectsCount  \\\n",
      "306       Fully Meets             4.07               4                    0   \n",
      "307               PIP             3.20               2                    0   \n",
      "308           Exceeds             4.60               5                    6   \n",
      "309       Fully Meets             5.00               3                    5   \n",
      "310       Fully Meets             4.50               5                    0   \n",
      "\n",
      "    LastPerformanceReview_Date Absences  \n",
      "306                 28-02-2019       13  \n",
      "307                 09-02-2015        4  \n",
      "308                 21-02-2019       16  \n",
      "309                 02-01-2019       11  \n",
      "310                 30-01-2019        2  \n",
      "\n",
      "[5 rows x 35 columns]\n"
     ]
    }
   ],
   "source": [
    "print(a.tail())"
   ]
  },
  {
   "cell_type": "code",
   "execution_count": 8,
   "id": "91a1d371-1672-46f1-9715-a6e1b2a770e5",
   "metadata": {},
   "outputs": [
    {
     "name": "stdout",
     "output_type": "stream",
     "text": [
      "<class 'pandas.core.frame.DataFrame'>\n",
      "RangeIndex: 311 entries, 0 to 310\n",
      "Data columns (total 35 columns):\n",
      " #   Column                      Non-Null Count  Dtype  \n",
      "---  ------                      --------------  -----  \n",
      " 0   Employee_Name               311 non-null    object \n",
      " 1   EmpID                       311 non-null    int64  \n",
      " 2   MarriedID                   311 non-null    int64  \n",
      " 3   MaritalStatusID             311 non-null    int64  \n",
      " 4   GenderID                    311 non-null    int64  \n",
      " 5   EmpStatusID                 311 non-null    int64  \n",
      " 6   DeptID                      311 non-null    int64  \n",
      " 7   PerfScoreID                 311 non-null    int64  \n",
      " 8   FromDiversityJobFairID      311 non-null    int64  \n",
      " 9   Salary                      311 non-null    int64  \n",
      " 10  Termd                       311 non-null    int64  \n",
      " 11  PositionID                  311 non-null    int64  \n",
      " 12  Position                    311 non-null    object \n",
      " 13  State                       311 non-null    object \n",
      " 14  Zip                         311 non-null    int64  \n",
      " 15  DOB                         311 non-null    object \n",
      " 16  Sex                         311 non-null    object \n",
      " 17  MaritalDesc                 311 non-null    object \n",
      " 18  CitizenDesc                 311 non-null    object \n",
      " 19  HispanicLatino              311 non-null    object \n",
      " 20  RaceDesc                    311 non-null    object \n",
      " 21  DateofHire                  311 non-null    object \n",
      " 22  DateofTermination           104 non-null    object \n",
      " 23  TermReason                  311 non-null    object \n",
      " 24  EmploymentStatus            311 non-null    object \n",
      " 25  Department                  311 non-null    object \n",
      " 26  ManagerName                 311 non-null    object \n",
      " 27  ManagerID                   303 non-null    float64\n",
      " 28  RecruitmentSource           311 non-null    object \n",
      " 29  PerformanceScore            311 non-null    object \n",
      " 30  EngagementSurvey            311 non-null    float64\n",
      " 31  EmpSatisfaction             311 non-null    int64  \n",
      " 32  SpecialProjectsCount        311 non-null    int64  \n",
      " 33  LastPerformanceReview_Date  311 non-null    object \n",
      " 34  Absences                    311 non-null    int64  \n",
      "dtypes: float64(2), int64(15), object(18)\n",
      "memory usage: 85.2+ KB\n",
      "None\n"
     ]
    }
   ],
   "source": [
    "print(a.info())"
   ]
  },
  {
   "cell_type": "code",
   "execution_count": 9,
   "id": "cac8f740-f86f-4123-850e-33c8d6cbd9ec",
   "metadata": {},
   "outputs": [
    {
     "name": "stdout",
     "output_type": "stream",
     "text": [
      "Employee_Name                   0\n",
      "EmpID                           0\n",
      "MarriedID                       0\n",
      "MaritalStatusID                 0\n",
      "GenderID                        0\n",
      "EmpStatusID                     0\n",
      "DeptID                          0\n",
      "PerfScoreID                     0\n",
      "FromDiversityJobFairID          0\n",
      "Salary                          0\n",
      "Termd                           0\n",
      "PositionID                      0\n",
      "Position                        0\n",
      "State                           0\n",
      "Zip                             0\n",
      "DOB                             0\n",
      "Sex                             0\n",
      "MaritalDesc                     0\n",
      "CitizenDesc                     0\n",
      "HispanicLatino                  0\n",
      "RaceDesc                        0\n",
      "DateofHire                      0\n",
      "DateofTermination             207\n",
      "TermReason                      0\n",
      "EmploymentStatus                0\n",
      "Department                      0\n",
      "ManagerName                     0\n",
      "ManagerID                       8\n",
      "RecruitmentSource               0\n",
      "PerformanceScore                0\n",
      "EngagementSurvey                0\n",
      "EmpSatisfaction                 0\n",
      "SpecialProjectsCount            0\n",
      "LastPerformanceReview_Date      0\n",
      "Absences                        0\n",
      "dtype: int64\n"
     ]
    }
   ],
   "source": [
    "print(a.isnull().sum())"
   ]
  },
  {
   "cell_type": "code",
   "execution_count": 11,
   "id": "aba0e4e1-3ea3-41d5-b8a0-0bc1ac03256c",
   "metadata": {},
   "outputs": [],
   "source": [
    "a['Salary']=a['Salary'].astype(float)\n",
    "a['DateofHire']=pd.to_datetime(a['DateofHire'],format='%d-%m-%Y')\n",
    "a['DOB']=pd.to_datetime(a['DOB'],format='%d-%m-%Y')\n",
    "a['DateofTermination']=pd.to_datetime(a['DateofTermination'],format='%d-%m-%Y')\n",
    "a['LastPerformanceReview_Date']=pd.to_datetime(a['LastPerformanceReview_Date'],format='%d-%m-%Y')\n"
   ]
  },
  {
   "cell_type": "code",
   "execution_count": 12,
   "id": "66cc47ad-0571-4615-8f17-7cd42af39b4a",
   "metadata": {},
   "outputs": [
    {
     "name": "stdout",
     "output_type": "stream",
     "text": [
      "              EmpID   MarriedID  MaritalStatusID    GenderID  EmpStatusID  \\\n",
      "count    311.000000  311.000000       311.000000  311.000000   311.000000   \n",
      "mean   10156.000000    0.398714         0.810289    0.434084     2.392283   \n",
      "min    10001.000000    0.000000         0.000000    0.000000     1.000000   \n",
      "25%    10078.500000    0.000000         0.000000    0.000000     1.000000   \n",
      "50%    10156.000000    0.000000         1.000000    0.000000     1.000000   \n",
      "75%    10233.500000    1.000000         1.000000    1.000000     5.000000   \n",
      "max    10311.000000    1.000000         4.000000    1.000000     5.000000   \n",
      "std       89.922189    0.490423         0.943239    0.496435     1.794383   \n",
      "\n",
      "           DeptID  PerfScoreID  FromDiversityJobFairID         Salary  \\\n",
      "count  311.000000   311.000000              311.000000     311.000000   \n",
      "mean     4.610932     2.977492                0.093248   69020.684887   \n",
      "min      1.000000     1.000000                0.000000   45046.000000   \n",
      "25%      5.000000     3.000000                0.000000   55501.500000   \n",
      "50%      5.000000     3.000000                0.000000   62810.000000   \n",
      "75%      5.000000     3.000000                0.000000   72036.000000   \n",
      "max      6.000000     4.000000                1.000000  250000.000000   \n",
      "std      1.083487     0.587072                0.291248   25156.636930   \n",
      "\n",
      "            Termd  ...           Zip                            DOB  \\\n",
      "count  311.000000  ...    311.000000                            311   \n",
      "mean     0.334405  ...   6555.482315  1979-07-09 01:27:58.456591616   \n",
      "min      0.000000  ...   1013.000000            1952-01-18 00:00:00   \n",
      "25%      0.000000  ...   1901.500000            1975-02-26 12:00:00   \n",
      "50%      0.000000  ...   2132.000000            1981-11-23 00:00:00   \n",
      "75%      1.000000  ...   2355.000000            1986-04-24 12:00:00   \n",
      "max      1.000000  ...  98052.000000            1998-09-19 00:00:00   \n",
      "std      0.472542  ...  16908.396884                            NaN   \n",
      "\n",
      "                          DateofHire              DateofTermination  \\\n",
      "count                            311                            104   \n",
      "mean   2013-02-20 19:49:58.070739456  2015-06-22 01:23:04.615384576   \n",
      "min              2006-09-01 00:00:00            2010-08-30 00:00:00   \n",
      "25%              2011-08-15 00:00:00            2014-02-07 18:00:00   \n",
      "50%              2013-02-18 00:00:00            2015-08-30 12:00:00   \n",
      "75%              2014-09-29 00:00:00            2016-09-16 00:00:00   \n",
      "max              2018-09-07 00:00:00            2018-10-11 00:00:00   \n",
      "std                              NaN                            NaN   \n",
      "\n",
      "        ManagerID  EngagementSurvey  EmpSatisfaction  SpecialProjectsCount  \\\n",
      "count  303.000000        311.000000       311.000000            311.000000   \n",
      "mean    14.570957          4.110000         3.890675              1.218650   \n",
      "min      1.000000          1.120000         1.000000              0.000000   \n",
      "25%     10.000000          3.690000         3.000000              0.000000   \n",
      "50%     15.000000          4.280000         4.000000              0.000000   \n",
      "75%     19.000000          4.700000         5.000000              0.000000   \n",
      "max     39.000000          5.000000         5.000000              8.000000   \n",
      "std      8.078306          0.789938         0.909241              2.349421   \n",
      "\n",
      "          LastPerformanceReview_Date    Absences  \n",
      "count                            311  311.000000  \n",
      "mean   2017-10-24 13:48:48.617363456   10.237942  \n",
      "min              2010-07-14 00:00:00    1.000000  \n",
      "25%              2016-05-19 00:00:00    5.000000  \n",
      "50%              2019-01-21 00:00:00   10.000000  \n",
      "75%              2019-02-21 00:00:00   15.000000  \n",
      "max              2019-12-02 00:00:00   20.000000  \n",
      "std                              NaN    5.852596  \n",
      "\n",
      "[8 rows x 21 columns]\n"
     ]
    }
   ],
   "source": [
    "print(a.describe())"
   ]
  },
  {
   "cell_type": "code",
   "execution_count": 14,
   "id": "ca0bf13f-3e2a-49dc-8a95-7261dfe93589",
   "metadata": {},
   "outputs": [
    {
     "name": "stdout",
     "output_type": "stream",
     "text": [
      "Marital Data\n",
      "MaritalDesc\n",
      "Single       137\n",
      "Married      124\n",
      "Divorced      30\n",
      "Separated     12\n",
      "Widowed        8\n",
      "Name: count, dtype: int64\n",
      "\n",
      "Department Data\n",
      "Department\n",
      "Production              209\n",
      "IT/IS                    50\n",
      "Sales                    31\n",
      "Software Engineering     11\n",
      "Admin Offices             9\n",
      "Executive Office          1\n",
      "Name: count, dtype: int64\n",
      "\n",
      "Position Data\n",
      "Position\n",
      "Production Technician I         137\n",
      "Production Technician II         57\n",
      "Area Sales Manager               27\n",
      "Production Manager               14\n",
      "Software Engineer                10\n",
      "IT Support                        8\n",
      "Data Analyst                      7\n",
      "Sr. Network Engineer              5\n",
      "Database Administrator            5\n",
      "Network Engineer                  5\n",
      "BI Developer                      4\n",
      "Senior BI Developer               3\n",
      "Administrative Assistant          3\n",
      "Sales Manager                     3\n",
      "Accountant I                      3\n",
      "Sr. DBA                           2\n",
      "IT Manager - DB                   2\n",
      "Sr. Accountant                    2\n",
      "Director of Operations            1\n",
      "Shared Services Manager           1\n",
      "Data Analyst                      1\n",
      "Data Architect                    1\n",
      "Principal Data Architect          1\n",
      "IT Manager - Infra                1\n",
      "President & CEO                   1\n",
      "Enterprise Architect              1\n",
      "BI Director                       1\n",
      "Director of Sales                 1\n",
      "IT Director                       1\n",
      "IT Manager - Support              1\n",
      "Software Engineering Manager      1\n",
      "CIO                               1\n",
      "Name: count, dtype: int64\n",
      "\n",
      "Manager Data\n",
      "ManagerName\n",
      "Michael Albert        22\n",
      "Kissy Sullivan        22\n",
      "Elijiah Gray          22\n",
      "Kelley Spirea         22\n",
      "Brannon Miller        22\n",
      "Ketsia Liebig         21\n",
      "David Stanley         21\n",
      "Amy Dunn              21\n",
      "Webster Butler        21\n",
      "Janet King            19\n",
      "Simon Roup            17\n",
      "Peter Monroe          14\n",
      "John Smith            14\n",
      "Lynn Daneault         13\n",
      "Alex Sweetwater        9\n",
      "Brian Champaigne       8\n",
      "Brandon R. LeBlanc     7\n",
      "Jennifer Zamora        7\n",
      "Eric Dougall           4\n",
      "Debra Houlihan         3\n",
      "Board of Directors     2\n",
      "Name: count, dtype: int64\n"
     ]
    }
   ],
   "source": [
    "print(\"Marital Data\")\n",
    "print(a['MaritalDesc'].value_counts())\n",
    "print(\"\\nDepartment Data\")\n",
    "print(a['Department'].value_counts())\n",
    "print(\"\\nPosition Data\")\n",
    "print(a['Position'].value_counts())\n",
    "print(\"\\nManager Data\")\n",
    "print(a['ManagerName'].value_counts())"
   ]
  },
  {
   "cell_type": "code",
   "execution_count": 15,
   "id": "e8a8f22e-5895-4651-9591-6276ab962729",
   "metadata": {},
   "outputs": [
    {
     "name": "stdout",
     "output_type": "stream",
     "text": [
      "Total Employees:311\n"
     ]
    }
   ],
   "source": [
    "#calculate total Employees \n",
    "total_employees=len(a)\n",
    "print((f\"Total Employees:{total_employees}\"))"
   ]
  },
  {
   "cell_type": "code",
   "execution_count": 16,
   "id": "a7491596-5684-4784-bc8a-a89549d88cc9",
   "metadata": {},
   "outputs": [
    {
     "name": "stdout",
     "output_type": "stream",
     "text": [
      "0         CurrentlyWorking\n",
      "1      2016-06-16 00:00:00\n",
      "2      2012-09-24 00:00:00\n",
      "3         CurrentlyWorking\n",
      "4      2016-06-09 00:00:00\n",
      "              ...         \n",
      "306       CurrentlyWorking\n",
      "307    2015-09-29 00:00:00\n",
      "308       CurrentlyWorking\n",
      "309       CurrentlyWorking\n",
      "310       CurrentlyWorking\n",
      "Name: DateofTermination, Length: 311, dtype: object\n"
     ]
    }
   ],
   "source": [
    "#fill missing  values (NaT) with 'Currently Working '\n",
    "a['DateofTermination']=a['DateofTermination'].fillna(value='CurrentlyWorking')\n",
    "print(a['DateofTermination'])"
   ]
  },
  {
   "cell_type": "code",
   "execution_count": 17,
   "id": "fd6d39e6-c29b-47bb-8f90-353b1a1f113c",
   "metadata": {},
   "outputs": [
    {
     "name": "stdout",
     "output_type": "stream",
     "text": [
      "Number of employees who have left : 104\n"
     ]
    }
   ],
   "source": [
    "#count the number of employees who have left\n",
    "employees_left_count=(a['DateofTermination']!='CurrentlyWorking').sum()\n",
    "print(f\"Number of employees who have left : {employees_left_count}\")"
   ]
  },
  {
   "cell_type": "code",
   "execution_count": 20,
   "id": "526a3e2d-76e8-4e1d-bdea-5d70b9da69a7",
   "metadata": {},
   "outputs": [
    {
     "name": "stdout",
     "output_type": "stream",
     "text": [
      "Number of employees currently working : 207\n"
     ]
    }
   ],
   "source": [
    "#count the number of employees currently working\n",
    "employees_working_count=(a['DateofTermination']=='CurrentlyWorking').sum()\n",
    "print(f\"Number of employees currently working : {employees_working_count}\")"
   ]
  },
  {
   "cell_type": "code",
   "execution_count": 21,
   "id": "08974488-e03c-47bb-919a-de5667dccf17",
   "metadata": {},
   "outputs": [
    {
     "name": "stdout",
     "output_type": "stream",
     "text": [
      "Total Departments : 6\n"
     ]
    }
   ],
   "source": [
    "#calculate total departments\n",
    "total_departments=a['Department'].nunique()\n",
    "print(f\"Total Departments : {total_departments}\")"
   ]
  },
  {
   "cell_type": "code",
   "execution_count": 22,
   "id": "2b7b9d98-5a7c-45ea-9be6-fafc69710a21",
   "metadata": {},
   "outputs": [
    {
     "name": "stdout",
     "output_type": "stream",
     "text": [
      "Average Salary : Rs.69020.68\n"
     ]
    }
   ],
   "source": [
    "#calculate average sakary\n",
    "average_salary=a['Salary'].mean()\n",
    "print(f\"Average Salary : Rs.{average_salary:.2f}\")"
   ]
  },
  {
   "cell_type": "code",
   "execution_count": 24,
   "id": "fa474c91-6b7a-4ccd-8e0f-833fe58b9aeb",
   "metadata": {},
   "outputs": [
    {
     "name": "stdout",
     "output_type": "stream",
     "text": [
      "Average Years with company : 12.26\n"
     ]
    }
   ],
   "source": [
    "#calculate average years with Company\n",
    "from datetime import datetime\n",
    "#calculate years with company fron \"DateofHire\"\n",
    "a['YearsWithCompany']=(datetime.now()-a['DateofHire']).dt.days/365.25\n",
    "#claculate average year with company\n",
    "average_years_with_company=a['YearsWithCompany'].mean()\n",
    "print(f\"Average Years with company : {average_years_with_company:.2f}\")"
   ]
  },
  {
   "cell_type": "code",
   "execution_count": 25,
   "id": "4081dd92-4c0c-47cc-ad3d-f0f2ff3615e5",
   "metadata": {},
   "outputs": [
    {
     "name": "stdout",
     "output_type": "stream",
     "text": [
      "Average Age : 45.88\n"
     ]
    }
   ],
   "source": [
    "#calculate average years with Company\n",
    "from datetime import datetime\n",
    "#calculate Age with Emplloyees\n",
    "a['Age']=(datetime.now()-a['DOB']).dt.days/365.25\n",
    "#claculate average age of employees\n",
    "average_age=a['Age'].mean()\n",
    "print(f\"Average Age : {average_age:.2f}\")"
   ]
  },
  {
   "cell_type": "code",
   "execution_count": 27,
   "id": "26afd413-7d74-4f83-b30f-310cf8b01e23",
   "metadata": {},
   "outputs": [
    {
     "name": "stdout",
     "output_type": "stream",
     "text": [
      "Attrition Rate: 33.44%\n"
     ]
    }
   ],
   "source": [
    "#calculate the attrition rate\n",
    "attrition_rate =(employees_left_count/total_employees )*100\n",
    "print(f\"Attrition Rate: {attrition_rate:.2f}%\")"
   ]
  },
  {
   "cell_type": "code",
   "execution_count": null,
   "id": "0bc12138-43f3-42b1-9798-996284ddf40c",
   "metadata": {},
   "outputs": [],
   "source": []
  }
 ],
 "metadata": {
  "kernelspec": {
   "display_name": "Python 3 (ipykernel)",
   "language": "python",
   "name": "python3"
  },
  "language_info": {
   "codemirror_mode": {
    "name": "ipython",
    "version": 3
   },
   "file_extension": ".py",
   "mimetype": "text/x-python",
   "name": "python",
   "nbconvert_exporter": "python",
   "pygments_lexer": "ipython3",
   "version": "3.12.2"
  }
 },
 "nbformat": 4,
 "nbformat_minor": 5
}
